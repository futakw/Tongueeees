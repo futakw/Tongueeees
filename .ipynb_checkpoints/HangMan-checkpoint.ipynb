{
 "cells": [
  {
   "cell_type": "code",
   "execution_count": 1,
   "metadata": {
    "ExecuteTime": {
     "end_time": "2020-06-14T14:16:04.959217Z",
     "start_time": "2020-06-14T14:16:04.619923Z"
    }
   },
   "outputs": [],
   "source": [
    "import pickle\n",
    "import numpy as np\n",
    "import random "
   ]
  },
  {
   "cell_type": "code",
   "execution_count": 7,
   "metadata": {
    "ExecuteTime": {
     "end_time": "2020-06-14T14:18:27.845767Z",
     "start_time": "2020-06-14T14:18:27.773566Z"
    }
   },
   "outputs": [],
   "source": [
    "ALPHA = [\"A\", \"B\", \"C\", \"D\", \"E\", \"F\", \"G\", \"H\", \"I\", \"J\", \"K\", \"L\", \"M\", \"N\", \"O\", \"P\", \"Q\", \"R\", \"S\", \"T\", \"U\", \"V\", \"W\", \"X\", \"Y\", \"Z\"]\n",
    "alpha = [\"a\", \"b\", \"c\", \"d\", \"e\", \"f\", \"g\", \"h\", \"i\", \"j\", \"k\", \"l\", \"m\", \"n\", \"o\", \"p\", \"q\", \"r\", \"s\", \"t\", \"u\", \"v\", \"w\", \"x\", \"y\", \"z\"]\n",
    "\n",
    "with open(\"dictionary.pkl\", \"rb\") as f:  # \"dictionary.pkl\" is available from \n",
    "    dictionary = pickle.load(f)                 # http://ushitora.net/archives/456\n",
    "f.close()                                # The list of 153,484 words in about 100 books."
   ]
  },
  {
   "cell_type": "code",
   "execution_count": 40,
   "metadata": {
    "ExecuteTime": {
     "end_time": "2020-06-14T14:50:07.518124Z",
     "start_time": "2020-06-14T14:50:07.499658Z"
    }
   },
   "outputs": [],
   "source": [
    "class HangManQuestioner:\n",
    "    def __init__(self, dictionary, word_len):\n",
    "        self.word_len = word_len\n",
    "        self.dictionary = [w for w in dictionary if '-' not in w and len(w)==word_len]\n",
    "        self.ans_word = random.choice(self.dictionary).upper()\n",
    "        #print(self.ans_word)\n",
    "        self.count = 1\n",
    "        \n",
    "    \n",
    "    def question(self, word):\n",
    "        word = word.upper()\n",
    "        if len(word) != self.word_len:\n",
    "            print('wrong length')\n",
    "            return\n",
    "        \n",
    "        Close = 0\n",
    "        Yes = 0\n",
    "        for i in range(len(word)):\n",
    "            if word[i] == self.ans_word[i]:\n",
    "                Yes += 1\n",
    "            elif word[i] in self.ans_word:\n",
    "                Close += 1\n",
    "        \n",
    "        if Yes == self.word_len:\n",
    "            print('Correct!!!  ---> Tried Time : ', self.count)\n",
    "            print('The answer is :' , self.ans_word)\n",
    "            return True, [Close,Yes]\n",
    "        else:\n",
    "            print('Close : {} , Yes : {}'.format(Close,Yes))\n",
    "            self.count += 1\n",
    "            return False, [Close,Yes]\n",
    "    \n",
    "    "
   ]
  },
  {
   "cell_type": "code",
   "execution_count": 39,
   "metadata": {
    "ExecuteTime": {
     "end_time": "2020-06-14T14:49:59.156678Z",
     "start_time": "2020-06-14T14:49:07.520582Z"
    },
    "scrolled": true
   },
   "outputs": [
    {
     "name": "stdout",
     "output_type": "stream",
     "text": [
      "Input the Length of word\n",
      ">>>3\n",
      "OK, Let's Start this Game :) \n",
      "Word length :  3\n",
      "------------------------------------------------ \n",
      "Input the word\n",
      ">>>cat\n",
      "Close : 0 , Yes : 0\n",
      "Input the word\n",
      ">>>tip\n",
      "Close : 0 , Yes : 0\n",
      "Input the word\n",
      ">>>fug\n",
      "Close : 0 , Yes : 1\n",
      "Input the word\n",
      ">>>dog\n",
      "Close : 0 , Yes : 1\n",
      "Input the word\n",
      ">>>mug\n",
      "Close : 0 , Yes : 1\n",
      "Input the word\n",
      ">>>sag\n",
      "Close : 0 , Yes : 0\n",
      "Input the word\n",
      ">>>dul\n",
      "Close : 0 , Yes : 2\n",
      "Input the word\n",
      ">>>dum\n",
      "Close : 0 , Yes : 2\n",
      "Input the word\n",
      ">>>dux\n",
      "Correct!!!  ---> Try Time :  9\n",
      "The answer is : DUX\n"
     ]
    }
   ],
   "source": [
    "print('Input the Length of word')\n",
    "word_len = input('>>>')\n",
    "\n",
    "print(\"OK, Let's Start this Game :) \" )\n",
    "print('Word length : ' , word_len)\n",
    "print('------------------------------------------------ ')\n",
    "\n",
    "H = HangManQuestioner(dictionary, int(word_len) )\n",
    "while True:\n",
    "    print('Input the word')\n",
    "    w = input('>>>')\n",
    "    _, feedback= H.question(w)          \n",
    "    if _ : break"
   ]
  },
  {
   "cell_type": "code",
   "execution_count": null,
   "metadata": {},
   "outputs": [],
   "source": []
  },
  {
   "cell_type": "code",
   "execution_count": null,
   "metadata": {},
   "outputs": [],
   "source": []
  },
  {
   "cell_type": "code",
   "execution_count": null,
   "metadata": {
    "ExecuteTime": {
     "end_time": "2020-06-14T14:16:05.110514Z",
     "start_time": "2020-06-14T14:16:04.578Z"
    }
   },
   "outputs": [],
   "source": [
    "class HangManSlover:\n",
    "    def __init__(self, word_len):\n",
    "        self.word_len = word_len    \n",
    "        self.data = {}\n",
    "        for w in ALPHA:\n",
    "            self.data[w] = {'Close':0,'Yes':0}\n",
    "            \n",
    "    def guess(self):\n",
    "        \n",
    "        \n",
    "    def feedback(self, feedback ):\n",
    "        Close, Yes = feedback\n",
    "        "
   ]
  },
  {
   "cell_type": "code",
   "execution_count": null,
   "metadata": {},
   "outputs": [],
   "source": []
  }
 ],
 "metadata": {
  "kernelspec": {
   "display_name": "Python 3",
   "language": "python",
   "name": "python3"
  },
  "language_info": {
   "codemirror_mode": {
    "name": "ipython",
    "version": 3
   },
   "file_extension": ".py",
   "mimetype": "text/x-python",
   "name": "python",
   "nbconvert_exporter": "python",
   "pygments_lexer": "ipython3",
   "version": "3.7.6"
  },
  "toc": {
   "base_numbering": 1,
   "nav_menu": {},
   "number_sections": true,
   "sideBar": true,
   "skip_h1_title": false,
   "title_cell": "Table of Contents",
   "title_sidebar": "Contents",
   "toc_cell": false,
   "toc_position": {},
   "toc_section_display": true,
   "toc_window_display": false
  }
 },
 "nbformat": 4,
 "nbformat_minor": 4
}
